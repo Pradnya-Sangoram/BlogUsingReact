{
  "nbformat": 4,
  "nbformat_minor": 0,
  "metadata": {
    "colab": {
      "name": "Python Array.ipynb",
      "provenance": [],
      "authorship_tag": "ABX9TyM9y96r7A8KwnC/8wR1eHIv",
      "include_colab_link": true
    },
    "kernelspec": {
      "name": "python3",
      "display_name": "Python 3"
    },
    "language_info": {
      "name": "python"
    }
  },
  "cells": [
    {
      "cell_type": "markdown",
      "metadata": {
        "id": "view-in-github",
        "colab_type": "text"
      },
      "source": [
        "<a href=\"https://colab.research.google.com/github/pradnyasangoram/BlogUsingReact/blob/master/Python_Array.ipynb\" target=\"_parent\"><img src=\"https://colab.research.google.com/assets/colab-badge.svg\" alt=\"Open In Colab\"/></a>"
      ]
    },
    {
      "cell_type": "code",
      "metadata": {
        "colab": {
          "base_uri": "https://localhost:8080/"
        },
        "id": "GrLZsW7C33cQ",
        "outputId": "48f64d63-8aa6-46c1-c550-421c58024a4f"
      },
      "source": [
        "from array import *\n",
        "\n",
        "arr = array ('i',[1,2,3,4,5])\n",
        "print(arr)"
      ],
      "execution_count": null,
      "outputs": [
        {
          "output_type": "stream",
          "text": [
            "array('i', [1, 2, 3, 4, 5])\n"
          ],
          "name": "stdout"
        }
      ]
    },
    {
      "cell_type": "code",
      "metadata": {
        "colab": {
          "base_uri": "https://localhost:8080/"
        },
        "id": "16v6BdSlVbWz",
        "outputId": "5183c044-42ef-46eb-dc0f-e9003c932cf0"
      },
      "source": [
        "print(arr.buffer_info())"
      ],
      "execution_count": null,
      "outputs": [
        {
          "output_type": "stream",
          "text": [
            "(140128972841392, 5)\n"
          ],
          "name": "stdout"
        }
      ]
    },
    {
      "cell_type": "code",
      "metadata": {
        "colab": {
          "base_uri": "https://localhost:8080/"
        },
        "id": "Zg2W_rSmVbTh",
        "outputId": "b2cb5e4d-f58d-4902-ca1b-5023891e071b"
      },
      "source": [
        "print(arr[2])"
      ],
      "execution_count": null,
      "outputs": [
        {
          "output_type": "stream",
          "text": [
            "3\n"
          ],
          "name": "stdout"
        }
      ]
    },
    {
      "cell_type": "code",
      "metadata": {
        "colab": {
          "base_uri": "https://localhost:8080/"
        },
        "id": "jKY8EouMVbQe",
        "outputId": "b2e9cd92-dad9-4e2a-e2b5-200cd961f0da"
      },
      "source": [
        "for i in arr:\n",
        "    print(i)"
      ],
      "execution_count": null,
      "outputs": [
        {
          "output_type": "stream",
          "text": [
            "1\n",
            "2\n",
            "3\n",
            "4\n",
            "5\n"
          ],
          "name": "stdout"
        }
      ]
    },
    {
      "cell_type": "code",
      "metadata": {
        "colab": {
          "base_uri": "https://localhost:8080/"
        },
        "id": "9fcXhzG5VbNo",
        "outputId": "b52bbb71-8b1e-4ae2-dfc9-37a30d379cea"
      },
      "source": [
        "for i in range(5):\n",
        "    print(i,arr[i])\n",
        "    "
      ],
      "execution_count": null,
      "outputs": [
        {
          "output_type": "stream",
          "text": [
            "0 1\n",
            "1 2\n",
            "2 3\n",
            "3 4\n",
            "4 5\n"
          ],
          "name": "stdout"
        }
      ]
    },
    {
      "cell_type": "code",
      "metadata": {
        "colab": {
          "base_uri": "https://localhost:8080/"
        },
        "id": "sd7yOzsoVbKj",
        "outputId": "fbd5c480-ed0c-41eb-960f-e1381fa7e326"
      },
      "source": [
        "for i in range(1,5):\n",
        "    print(i,arr[i])"
      ],
      "execution_count": null,
      "outputs": [
        {
          "output_type": "stream",
          "text": [
            "1 2\n",
            "2 3\n",
            "3 4\n",
            "4 5\n"
          ],
          "name": "stdout"
        }
      ]
    },
    {
      "cell_type": "code",
      "metadata": {
        "colab": {
          "base_uri": "https://localhost:8080/"
        },
        "id": "tMBtSJJpVbHl",
        "outputId": "661fa138-29df-488f-c3df-61282bcb9d80"
      },
      "source": [
        "arr.reverse()\n",
        "print(arr)"
      ],
      "execution_count": null,
      "outputs": [
        {
          "output_type": "stream",
          "text": [
            "array('i', [5, 4, 3, 2, 1])\n"
          ],
          "name": "stdout"
        }
      ]
    },
    {
      "cell_type": "code",
      "metadata": {
        "colab": {
          "base_uri": "https://localhost:8080/"
        },
        "id": "R-J-Ah9pVbEj",
        "outputId": "8ae81b68-54e9-42c8-e5d9-5de8bd4157aa"
      },
      "source": [
        "arr.append(10)\n",
        "print(arr)"
      ],
      "execution_count": null,
      "outputs": [
        {
          "output_type": "stream",
          "text": [
            "array('i', [5, 4, 3, 2, 1, 10])\n"
          ],
          "name": "stdout"
        }
      ]
    },
    {
      "cell_type": "code",
      "metadata": {
        "colab": {
          "base_uri": "https://localhost:8080/"
        },
        "id": "6JlVWZFUVbBU",
        "outputId": "ef5cf859-7f93-493d-e9e6-b62d8c0b4bb2"
      },
      "source": [
        "arr.remove(2)\n",
        "print(arr)"
      ],
      "execution_count": null,
      "outputs": [
        {
          "output_type": "stream",
          "text": [
            "array('i', [5, 4, 3, 1, 10])\n"
          ],
          "name": "stdout"
        }
      ]
    },
    {
      "cell_type": "code",
      "metadata": {
        "colab": {
          "base_uri": "https://localhost:8080/"
        },
        "id": "AmSlKtApVa-V",
        "outputId": "89b6c508-9ec9-4df9-bc5b-de2381f4c3b1"
      },
      "source": [
        "arr.append(10)\n",
        "print(arr)"
      ],
      "execution_count": null,
      "outputs": [
        {
          "output_type": "stream",
          "text": [
            "array('i', [5, 4, 3, 1, 10, 10])\n"
          ],
          "name": "stdout"
        }
      ]
    },
    {
      "cell_type": "code",
      "metadata": {
        "colab": {
          "base_uri": "https://localhost:8080/"
        },
        "id": "cbl_Mdv-Va7U",
        "outputId": "8516fa18-4008-40d0-da60-7d1a0cdb7fee"
      },
      "source": [
        "arr.remove(10) # removes first 10 from the array when there are 2 same VALUES\n",
        "print(arr)"
      ],
      "execution_count": null,
      "outputs": [
        {
          "output_type": "stream",
          "text": [
            "array('i', [5, 4, 3, 1, 10])\n"
          ],
          "name": "stdout"
        }
      ]
    },
    {
      "cell_type": "code",
      "metadata": {
        "colab": {
          "base_uri": "https://localhost:8080/"
        },
        "id": "Km0EEk3cVa4M",
        "outputId": "b8eaa8d0-f61c-42ca-c8ee-ce16e02af12c"
      },
      "source": [
        "arr = array('i', [1,2,2,3,4,5])\n",
        "print(arr[2])\n",
        "print(arr.index(2))"
      ],
      "execution_count": null,
      "outputs": [
        {
          "output_type": "stream",
          "text": [
            "2\n",
            "1\n"
          ],
          "name": "stdout"
        }
      ]
    },
    {
      "cell_type": "code",
      "metadata": {
        "colab": {
          "base_uri": "https://localhost:8080/"
        },
        "id": "NYLVnxcOVau7",
        "outputId": "ac73b1e4-a2ec-4541-8d37-64767bb07958"
      },
      "source": [
        "arr = array('i',[])\n",
        "x = int(input(\"enter size of array\"))\n",
        "print('enter %d elements'%x)\n",
        "for i in range(x):\n",
        "    n = int(input())\n",
        "    arr.append(n)\n",
        "print(arr)"
      ],
      "execution_count": null,
      "outputs": [
        {
          "output_type": "stream",
          "text": [
            "enter size of array4\n",
            "enter 4 elements\n",
            "1\n",
            "3\n",
            "2\n",
            "2\n",
            "array('i', [1, 3, 2, 2])\n"
          ],
          "name": "stdout"
        }
      ]
    },
    {
      "cell_type": "markdown",
      "metadata": {
        "id": "smdKf1peWiM1"
      },
      "source": [
        "Nested_loop to delete duplicate element:"
      ]
    },
    {
      "cell_type": "code",
      "metadata": {
        "colab": {
          "base_uri": "https://localhost:8080/"
        },
        "id": "WkqfJYCDVaXs",
        "outputId": "e3dc9ad0-1359-430c-c752-ee22031f6871"
      },
      "source": [
        "i = 0\n",
        "while i<x-1:\n",
        "    j=i+1\n",
        "    while j<x:\n",
        "        if arr[i] == arr[j]:\n",
        "            del arr[j]\n",
        "            x=x-1\n",
        "        j +=1\n",
        "    i+=1\n",
        "print(arr)"
      ],
      "execution_count": null,
      "outputs": [
        {
          "output_type": "stream",
          "text": [
            "array('i', [1, 3, 2])\n"
          ],
          "name": "stdout"
        }
      ]
    },
    {
      "cell_type": "code",
      "metadata": {
        "id": "TMLWsUiHWoU3"
      },
      "source": [
        ""
      ],
      "execution_count": null,
      "outputs": []
    }
  ]
}